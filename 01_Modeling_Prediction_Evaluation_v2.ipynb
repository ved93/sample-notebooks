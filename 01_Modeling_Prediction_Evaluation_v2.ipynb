{
 "cells": [
  {
   "cell_type": "code",
   "execution_count": null,
   "metadata": {},
   "outputs": [],
   "source": [
    "#https://github.com/rhiever/Data-Analysis-and-Machine-Learning-Projects/blob/master/example-data-science-notebook/Example%20Machine%20Learning%20Notebook.ipynb\n",
    "\n",
    "# learning curev\n",
    "# https://shankarmsy.github.io/stories/rf-sklearn.html"
   ]
  },
  {
   "cell_type": "code",
   "execution_count": null,
   "metadata": {},
   "outputs": [],
   "source": []
  },
  {
   "cell_type": "code",
   "execution_count": null,
   "metadata": {},
   "outputs": [],
   "source": []
  },
  {
   "cell_type": "code",
   "execution_count": null,
   "metadata": {},
   "outputs": [],
   "source": []
  },
  {
   "cell_type": "code",
   "execution_count": null,
   "metadata": {},
   "outputs": [],
   "source": [
    "df = pd.read_feather('dfv1')"
   ]
  },
  {
   "cell_type": "code",
   "execution_count": null,
   "metadata": {},
   "outputs": [],
   "source": []
  },
  {
   "cell_type": "code",
   "execution_count": null,
   "metadata": {},
   "outputs": [],
   "source": [
    "#process missing value, one hot cencode cat var\n",
    "# X, y, nas = feature_engineering.proc_df(train, 'ordered' )\n",
    "\n",
    "# Xtest, ytest, nas = feature_engineering.proc_df(test, 'ordered', na_dict=nas )"
   ]
  },
  {
   "cell_type": "code",
   "execution_count": null,
   "metadata": {},
   "outputs": [],
   "source": [
    "# #Scaling features\n",
    "# from sklearn.preprocessing import StandardScaler\n",
    "# scaler = StandardScaler()\n",
    "# scaler.fit(df)\n",
    "# df_norm = pd.DataFrame(scaler.transform(df), columns=df.columns)\n"
   ]
  },
  {
   "cell_type": "code",
   "execution_count": null,
   "metadata": {},
   "outputs": [],
   "source": [
    "#Define Validation method\n",
    "#Train and validation set split\n",
    "from sklearn.model_selection import train_test_split\n",
    "X = df.drop('target_var', axis=1)\n",
    "y = df['column to predict']\n",
    "X_train, X_val, y_train, y_val = train_test_split(X, y, test_size = 0.4, stratify = y.values, random_state = 101)\n",
    "#Cross validation\n",
    "from sklearn.model_selection import cross_val_score\n",
    "cross_val_score(model, X, y, cv=5)\n",
    "#StratifiedKFold\n",
    "from sklearn.model_selection import StratifiedKFold\n",
    "skf = StratifiedKFold(n_splits=5, random_state=101)\n",
    "for train_index, val_index in skf.split(X, y):\n",
    "    X_train, X_val = X[train_index], X[val_index]\n",
    "    y_train, y_val = y[train_index], y[val_index]"
   ]
  },
  {
   "cell_type": "code",
   "execution_count": null,
   "metadata": {},
   "outputs": [],
   "source": []
  },
  {
   "cell_type": "code",
   "execution_count": null,
   "metadata": {},
   "outputs": [],
   "source": [
    "SEED = 666\n",
    "In [29]:\n",
    "x_int, x_test, y_int, y_test = train_test_split(x_normal, y, test_size=100, stratify=y, random_state = SEED)\n",
    "In [30]:\n",
    "x_train,x_val,y_train,y_val = train_test_split(x_int, y_int, test_size=100, stratify = y_int, random_state = SEED)\n",
    "In [31]:\n",
    "# print proportions\n",
    "print('train: {}% | Validation: {}% | Test: {}%'.format( round(len(y_train)/len(y),2), \n",
    "                                                        round(len(y_val)/len(y) ,2), \n",
    "                                                        round(len(y_test)/len(y),2) ) )\n",
    "train: 0.85% | Validation: 0.08% | Test: 0.08%\n",
    "5.2 Model Comparison\n",
    "An Analytical comparison is performed initially, to assess which Models fare well in making accurate predictions. In doing so, several classification Techniques are compared. The model should perform better than a base model i.e., the one with 70% and above accuracy. Also, recall should be high because from a Business point of view 'False Negative's' i.e., Fraudulent transactions classified as Non-Fraudulent will be more costlier to the Bank.\n",
    "\n",
    " "
   ]
  },
  {
   "cell_type": "code",
   "execution_count": null,
   "metadata": {},
   "outputs": [],
   "source": [
    "models = []\n",
    "\n",
    "models.append(('LR', LogisticRegression()))\n",
    "models.append(('KNN', KNeighborsClassifier()))\n",
    "models.append(('SGD', SGDClassifier()))\n",
    "models.append(('DT', DecisionTreeClassifier()))\n",
    "models.append(('SVC', SVC()))\n",
    "models.append(('RF', RandomForestClassifier()))\n",
    "models.append(('Ada', AdaBoostClassifier()))\n",
    "models.append(('Grad', GradientBoostingClassifier()))\n",
    "\n",
    "# Model Evaluation\n",
    "\n",
    "result = []\n",
    "model_names = []\n",
    "scoring = ['accuracy', 'recall', 'precision', 'roc_auc']\n",
    "\n",
    "for model_name, model in models:\n",
    "    kfold = KFold(n_splits=10, random_state=SEED)\n",
    "    cv_results1 = cross_val_score(model, x_train, y_train, cv = kfold, scoring=scoring[0])\n",
    "    cv_results2 = cross_val_score(model, x_train, y_train, cv = kfold, scoring=scoring[1])\n",
    "    cv_results3 = cross_val_score(model, x_train, y_train, cv = kfold, scoring=scoring[2])\n",
    "    cv_results4 = cross_val_score(model, x_train, y_train, cv = kfold, scoring=scoring[3])\n",
    "    model_names.append(model_name)\n",
    "    msg = \"%s:\\n ACCURACY = %f, RECALL=(%f), PRECISION=(%f), ROC-AUC=(%f)\" % (model_name, cv_results1.mean(),cv_results2.mean(), cv_results3.mean(), cv_results4.mean())\n",
    "    print(msg)"
   ]
  },
  {
   "cell_type": "code",
   "execution_count": null,
   "metadata": {},
   "outputs": [],
   "source": [
    "\n",
    "lr = LogisticRegression()\n",
    "\n",
    "model = lr.fit(x_train, y_train)\n",
    "\n",
    "model.score(x_val, y_val)"
   ]
  },
  {
   "cell_type": "code",
   "execution_count": null,
   "metadata": {},
   "outputs": [],
   "source": [
    "# Fitting the model using the intermediate dataset.\n",
    "model2 = lr.fit(x_int, y_int)\n",
    "\n",
    "model2.score(x_test, y_test)\n",
    " "
   ]
  },
  {
   "cell_type": "code",
   "execution_count": null,
   "metadata": {},
   "outputs": [],
   "source": [
    "# Predcited probability of each class.\n",
    "y_pred_prob = model2.predict_proba(x_test)\n",
    "\n",
    "# Predicted value of each class\n",
    "y_pred = model2.predict(x_test)\n",
    " "
   ]
  },
  {
   "cell_type": "code",
   "execution_count": null,
   "metadata": {},
   "outputs": [],
   "source": [
    "cMatrix = confusion_matrix(y_test, y_pred)\n",
    "print(cMatrix)\n",
    "print(\"Transactions which were falsely classified as FRAUD =  %.1f Percent\" %(cMatrix[0][1]/ sum(sum(cMatrix))*100 ) )\n",
    "print(\"Transactions which were falsely classified as NOT-FRAUD = %.1f Percent\"%(cMatrix[1][0]/ sum(sum(cMatrix))*100 ) )\n",
    "print(\"Transactions which were truly classified as FRAUD = %.1f Percent\"% (cMatrix[1][1]/ sum(sum(cMatrix))*100 ) )\n",
    "print(\"Transactions which were truly classified as NOT-FRAUD = %.1f Percent\"% (cMatrix[0][0]/ sum(sum(cMatrix))*100 ))"
   ]
  },
  {
   "cell_type": "markdown",
   "metadata": {},
   "source": [
    "### 5.4 Model Optimization\n",
    "Models with the regularization of type 'l1' and 'l2' are Optimized using Grid-SearchCV.Several Hyper-parameters were taken into consideration. It is to be observed:\n",
    "\n",
    "Model for type L1 performs better than L2.\n",
    "False Classification Rate for the model in section 5.4.1 is lesser than the one in 5.4.2. Hence, We will use it as our Base model."
   ]
  },
  {
   "cell_type": "code",
   "execution_count": null,
   "metadata": {},
   "outputs": [],
   "source": [
    "LRPipeline1 = Pipeline([( 'LogReg', LogisticRegression(random_state=SEED)) ])\n",
    "\n",
    "params = dict({ 'LogReg__penalty': ['l1'],'LogReg__C': [0.001,0.01,0.1,0.5,0.9,1,3,5,10], 'LogReg__tol': [ 1e-4, 1e-3, 1e-2, 1e-1, 1, 1e2 ], 'LogReg__solver': ['liblinear','saga']})\n",
    "\n",
    "GSLR1 = GridSearchCV(LRPipeline1, params, cv=10, scoring='accuracy')\n",
    "GSLR1.fit(x_train,y_train)"
   ]
  },
  {
   "cell_type": "code",
   "execution_count": null,
   "metadata": {},
   "outputs": [],
   "source": [
    "GSLR1.score(x_val, y_val)"
   ]
  },
  {
   "cell_type": "code",
   "execution_count": null,
   "metadata": {},
   "outputs": [],
   "source": [
    "\n",
    "# Model Accuracy on the Test Set\n",
    "\n",
    "GSLR1.score(x_test, y_test)"
   ]
  },
  {
   "cell_type": "code",
   "execution_count": null,
   "metadata": {},
   "outputs": [],
   "source": [
    "# Predcited probability of each class.\n",
    "y_pred_prob1 = GSLR1.predict_proba(x_test)\n",
    "\n",
    "# Predicted value of each class\n",
    "y_pred1 = GSLR1.predict(x_test)\n",
    " "
   ]
  },
  {
   "cell_type": "code",
   "execution_count": null,
   "metadata": {},
   "outputs": [],
   "source": [
    "cMatrix1 = confusion_matrix(y_test, y_pred1)\n",
    "print(cMatrix1)\n",
    "print(\"Transactions which were falsely classified as FRAUD =  %.1f Percent\" %(cMatrix1[0][1]/ sum(sum(cMatrix1))*100 ) )\n",
    "print(\"Transactions which were falsely classified as NOT-FRAUD = %.1f Percent\"%(cMatrix1[1][0]/ sum(sum(cMatrix1))*100 ) )\n",
    "print(\"Transactions which were truly classified as FRAUD = %.1f Percent\"% (cMatrix1[1][1]/ sum(sum(cMatrix1))*100 ) )\n",
    "print(\"Transactions which were truly classified as NOT-FRAUD = %.1f Percent\"% (cMatrix1[0][0]/ sum(sum(cMatrix1))*100 ))"
   ]
  },
  {
   "cell_type": "markdown",
   "metadata": {},
   "source": [
    "### 5.4.2 'l2' Regularization"
   ]
  },
  {
   "cell_type": "code",
   "execution_count": null,
   "metadata": {},
   "outputs": [],
   "source": [
    "\n",
    "LRPipeline2 = Pipeline([( 'LogReg', LogisticRegression(random_state=SEED)) ])\n",
    "\n",
    "params = dict({'LogReg__max_iter':[100,200,300,400,500] ,'LogReg__penalty': ['l2'],'LogReg__C': [0.01,0.1,0.5,0.9,1,5,10], 'LogReg__tol': [ 1e-4, 1e-3, 1e-2, 1e-1, 1, 1e2 ], 'LogReg__solver': ['newton-cg','sag','lbfgs']})\n",
    "\n",
    "GSLR2 = GridSearchCV(LRPipeline2, params, cv=10, scoring='accuracy')\n",
    " \n",
    "GSLR2.fit(x_train,y_train)"
   ]
  },
  {
   "cell_type": "code",
   "execution_count": null,
   "metadata": {},
   "outputs": [],
   "source": [
    "# Model Accuracy on the Test Set\n",
    "\n",
    "GSLR2.score(x_test, y_test)\n",
    " \n",
    "# Predcited probability of each class.\n",
    "y_pred_prob2 = GSLR2.predict_proba(x_test)\n",
    "\n",
    "# Predicted value of each class\n",
    "y_pred2 = GSLR2.predict(x_test)\n",
    "In [176]:\n",
    "cMatrix2 = confusion_matrix(y_test, y_pred2)\n",
    "print(cMatrix2)\n",
    "print(\"Transactions which were falsely classified as FRAUD =  %.1f Percent\" %(cMatrix2[0][1]/ sum(sum(cMatrix2))*100 ) )\n",
    "print(\"Transactions which were falsely classified as NOT-FRAUD = %.1f Percent\"%(cMatrix2[1][0]/ sum(sum(cMatrix2))*100 ) )\n",
    "print(\"Transactions which were truly classified as FRAUD = %.1f Percent\"% (cMatrix2[1][1]/ sum(sum(cMatrix2))*100 ) )\n",
    "print(\"Transactions which were truly classified as NOT-FRAUD = %.1f Percent\"% (cMatrix2[0][0]/ sum(sum(cMatrix2))*100 ))"
   ]
  },
  {
   "cell_type": "markdown",
   "metadata": {},
   "source": [
    "### 5.5 Model Evaluation\n",
    "We shall proceed with the model selected in section 5.4.1. The goal is to reduce the FALSE NEGATIVE count i.e., Fraudulent Transactions that are classified as Non-Fraudulent. This is so because classifying a Fraud transaction as Non-Fraud will be more cost inducuve to the Bank than classifying a Non-Fraud Transaction as Fraud.\n",
    "In order to do so, we tweak the predicted probability of the test data and assign higher weightage to"
   ]
  },
  {
   "cell_type": "code",
   "execution_count": null,
   "metadata": {},
   "outputs": [],
   "source": [
    "# Vaues taken from section 5.4.1\n",
    "finalModel = LogisticRegression(penalty='l1', solver='liblinear', tol=0.1, C=5)\n",
    "finalModel.fit(x_int, y_int)\n",
    "LogisticRegression(C=5, class_weight=None, dual=False, fit_intercept=True,\n",
    "          intercept_scaling=1, max_iter=100, multi_class='warn',\n",
    "          n_jobs=None, penalty='l1', random_state=None, solver='liblinear',\n",
    "          tol=0.1, verbose=0, warm_start=False)\n",
    "scoreTrain = finalModel.score(x_val, y_val)\n",
    "scoreTest = finalModel.score(x_test,y_test)\n",
    "\n",
    "print(\"The Accuracy of the model on the Train Set is: %.1f \" % (scoreTrain * 100))\n",
    "print(\"The Accuracy of the model on the Test Set is: %.1f \" % (scoreTest * 100))\n",
    "The Accuracy of the model on the Train Set is: 72.0 \n",
    "The Accuracy of the model on the Test Set is: 69.0 "
   ]
  },
  {
   "cell_type": "code",
   "execution_count": null,
   "metadata": {},
   "outputs": [],
   "source": [
    "# Predcited probability of each class.\n",
    "y_pred_prob_final = finalModel.predict_proba(x_test)\n",
    "\n",
    "# Predicted value of each class\n",
    "y_pred_final = finalModel.predict(x_test)\n",
    "\n",
    "# Predicted Probability of class '0' i.e., not a Fraud Transaction.\n",
    "y_zero = pd.Series(y_pred_prob_final[:,0])\n",
    "\n",
    "# Mapping the predicted probability higher than 0.689 to class 0 i.e., Not-Fraud class.\n",
    "y_pred_optimum = y_zero.map(lambda x: 0 if x>0.689 else 1)\n",
    "\n",
    "cMatrix = confusion_matrix(y_test, y_pred_optimum)\n",
    "print(cMatrix)\n",
    "print(\"Transactions which were falsely classified as FRAUD =  %.1f Percent\" %(cMatrix[0][1]/ sum(sum(cMatrix))*100 ) )\n",
    "print(\"Transactions which were falsely classified as NOT-FRAUD = %.1f Percent\"%(cMatrix[1][0]/ sum(sum(cMatrix))*100 ) )\n",
    "print(\"Transactions which were truly classified as FRAUD = %.1f Percent\"% (cMatrix[1][1]/ sum(sum(cMatrix))*100 ) )\n",
    "print(\"Transactions which were truly classified as NOT-FRAUD = %.1f Percent\"% (cMatrix[0][0]/ sum(sum(cMatrix))*100 ))"
   ]
  },
  {
   "cell_type": "code",
   "execution_count": null,
   "metadata": {},
   "outputs": [],
   "source": []
  },
  {
   "cell_type": "code",
   "execution_count": null,
   "metadata": {},
   "outputs": [],
   "source": []
  },
  {
   "cell_type": "markdown",
   "metadata": {},
   "source": [
    "### 2nd way- square panda soln"
   ]
  },
  {
   "cell_type": "code",
   "execution_count": 654,
   "metadata": {},
   "outputs": [
    {
     "name": "stdout",
     "output_type": "stream",
     "text": [
      "0.5919486004283298\n"
     ]
    }
   ],
   "source": [
    "### Preprocessing\n",
    "from sklearn.preprocessing import StandardScaler\n",
    "from sklearn.model_selection import train_test_split\n",
    "X_train, X_test, y_train, y_test = train_test_split(data_features, target)\n",
    "\n",
    "scaler = StandardScaler().fit(X_train)\n",
    "X_train_scaled = scaler.transform(X_train)\n",
    "\n",
    "### Cross-validation with default parameters\n",
    "from sklearn.model_selection import cross_val_score\n",
    "from sklearn.linear_model import LogisticRegression\n",
    "\n",
    "scores = cross_val_score(LogisticRegression(), X_train_scaled, y_train)\n",
    "print(scores.mean())"
   ]
  },
  {
   "cell_type": "code",
   "execution_count": 656,
   "metadata": {},
   "outputs": [
    {
     "data": {
      "image/png": "[encoded data removed]",
      "text/plain": [
       "<Figure size 432x288 with 1 Axes>"
      ]
     },
     "metadata": {
      "needs_background": "light"
     },
     "output_type": "display_data"
    }
   ],
   "source": [
    "### do grid search\n",
    "\n",
    "import numpy as np\n",
    "\n",
    "param_grid = {'C': np.logspace(-3, 3, 7)}\n",
    "param_grid\n",
    "\n",
    "from sklearn.model_selection import GridSearchCV\n",
    "grid = GridSearchCV(LogisticRegression(), param_grid,\n",
    "                    return_train_score=True)\n",
    "\n",
    "grid.fit(X_train_scaled, y_train)\n",
    "\n",
    "grid.best_params_\n",
    "grid.best_score_\n",
    "\n",
    "# some visualization\n",
    "\n",
    "import pandas as pd\n",
    "%matplotlib inline\n",
    "res = pd.DataFrame(grid.cv_results_)\n",
    "res.mean_test_score.plot()\n",
    "res.mean_train_score.plot()\n",
    "import matplotlib.pyplot as plt\n",
    "plt.xscale(\"log\")\n",
    "\n",
    "grid.score(X_test, y_test)\n",
    "\n",
    "important = np.argsort(np.abs(grid.best_estimator_.coef_)).ravel()\n",
    "\n"
   ]
  },
  {
   "cell_type": "code",
   "execution_count": 659,
   "metadata": {},
   "outputs": [
    {
     "data": {
      "text/plain": [
       "array([5, 1, 3, 2, 0, 4])"
      ]
     },
     "execution_count": 659,
     "metadata": {},
     "output_type": "execute_result"
    }
   ],
   "source": [
    "important"
   ]
  },
  {
   "cell_type": "code",
   "execution_count": 661,
   "metadata": {},
   "outputs": [
    {
     "data": {
      "image/png": "[encoded data removed]",
      "text/plain": [
       "<Figure size 432x288 with 1 Axes>"
      ]
     },
     "metadata": {
      "needs_background": "light"
     },
     "output_type": "display_data"
    }
   ],
   "source": [
    "plt.barh(range(6), grid.best_estimator_.coef_.ravel()[important ])\n",
    "plt.yticks(range(6), X_train.columns[important ]);"
   ]
  },
  {
   "cell_type": "code",
   "execution_count": null,
   "metadata": {},
   "outputs": [],
   "source": []
  },
  {
   "cell_type": "code",
   "execution_count": 663,
   "metadata": {},
   "outputs": [],
   "source": [
    "import lightgbm as lgb\n",
    "import numpy as np # linear algebra\n",
    "import pandas as pd # data processing, CSV file I/O (e.g. pd.read_csv)\n",
    "import matplotlib.pyplot as plt\n",
    "import seaborn as sns\n",
    "from sklearn.feature_extraction.text import TfidfVectorizer, CountVectorizer\n",
    "from sklearn.decomposition import TruncatedSVD\n",
    "from sklearn import preprocessing, model_selection, metrics\n",
    "from sklearn.linear_model import LogisticRegression, SGDClassifier\n",
    "from sklearn.model_selection import cross_val_score, StratifiedKFold,train_test_split\n",
    "from scipy.sparse import hstack\n",
    "from sklearn.metrics import log_loss, matthews_corrcoef, roc_auc_score, accuracy_score"
   ]
  },
  {
   "cell_type": "code",
   "execution_count": 664,
   "metadata": {},
   "outputs": [
    {
     "name": "stdout",
     "output_type": "stream",
     "text": [
      "Training until validation scores don't improve for 100 rounds\n",
      "Early stopping, best iteration is:\n",
      "[76]\ttraining's auc: 0.67258\ttraining's binary_logloss: 0.65719\tvalid_1's auc: 0.583099\tvalid_1's binary_logloss: 0.672425\n",
      "\n",
      " Fold 01 AUC: 0.583099 \n",
      "\n",
      "Training until validation scores don't improve for 100 rounds\n",
      "Early stopping, best iteration is:\n",
      "[86]\ttraining's auc: 0.676099\ttraining's binary_logloss: 0.656182\tvalid_1's auc: 0.597714\tvalid_1's binary_logloss: 0.670537\n",
      "\n",
      " Fold 02 AUC: 0.597714 \n",
      "\n",
      "Training until validation scores don't improve for 100 rounds\n",
      "Early stopping, best iteration is:\n",
      "[85]\ttraining's auc: 0.672708\ttraining's binary_logloss: 0.657\tvalid_1's auc: 0.610131\tvalid_1's binary_logloss: 0.669166\n",
      "\n",
      " Fold 03 AUC: 0.610131 \n",
      "\n",
      "Training until validation scores don't improve for 100 rounds\n",
      "Early stopping, best iteration is:\n",
      "[89]\ttraining's auc: 0.66709\ttraining's binary_logloss: 0.657744\tvalid_1's auc: 0.628719\tvalid_1's binary_logloss: 0.665084\n",
      "\n",
      " Fold 04 AUC: 0.628719 \n",
      "\n",
      "Training until validation scores don't improve for 100 rounds\n",
      "Early stopping, best iteration is:\n",
      "[88]\ttraining's auc: 0.67281\ttraining's binary_logloss: 0.655578\tvalid_1's auc: 0.594308\tvalid_1's binary_logloss: 0.670872\n",
      "\n",
      " Fold 05 AUC: 0.594308 \n",
      "\n"
     ]
    },
    {
     "data": {
      "image/png": "[encoded data removed]",
      "text/plain": [
       "<Figure size 432x288 with 1 Axes>"
      ]
     },
     "metadata": {
      "needs_background": "light"
     },
     "output_type": "display_data"
    }
   ],
   "source": [
    "\n",
    "\n",
    "params = {\"objective\": \"binary\",\n",
    "          \"boosting_type\": \"gbdt\",\n",
    "#           \"learning_rate\": 0.1,\n",
    "                  'learning_rate': 0.01,\n",
    "        'is_unbalance': 'true',  #because training data is unbalance (replaced with scale_pos_weight)\n",
    "        'num_leaves': 31,  # we should let it be smaller than 2^(max_depth)\n",
    "        'max_depth': -1,  # -1 means no limit\n",
    "        'min_child_samples': 10,  # Minimum number of data need in a child(min_data_in_leaf)\n",
    "        'max_bin': 255,  # Number of bucketed bin for feature values\n",
    "        'subsample': 0.6,  # Subsample ratio of the training instance.\n",
    "        'subsample_freq': 0,  # frequence of subsample, <=0 means no enable\n",
    "        'colsample_bytree': 0.7,  # Subsample ratio of columns when constructing each tree.\n",
    "        'min_child_weight': 5,  # Minimum sum of instance weight(hessian) needed in a child(leaf)\n",
    "#         'subsample_for_bin': 200000,  # Number of samples for constructing bin\n",
    "        'min_split_gain': 0,  # lambda_l1, lambda_l2 and min_gain_to_split to regularization\n",
    "        'reg_alpha': 0,  # L1 regularization term on weights\n",
    "        'reg_lambda': 0,  # L2 regularization term on weights\n",
    "        'nthread': 4,\n",
    "          \"metrics\":['auc', 'binary']\n",
    "          }\n",
    "\n",
    "folds = 5\n",
    "skf = StratifiedKFold(n_splits=folds, shuffle=True, random_state=1001)\n",
    "val_results = []\n",
    "val_y = []\n",
    "\n",
    "\n",
    "pred_test_full = 0\n",
    "\n",
    "\n",
    "for i, (train_index, val_index) in enumerate(skf.split(X_train.values, y_train.values)):\n",
    "        X_train_fold, X_val_fold = X_train.iloc[train_index], X_train.iloc[val_index]\n",
    "        y_train_fold, y_val_fold = y_train.iloc[train_index], y_train.iloc[val_index]\n",
    "\n",
    "        dtrain = lgb.Dataset(X_train_fold, y_train_fold)\n",
    "        dvalid = lgb.Dataset(X_val_fold, y_val_fold, reference=dtrain)\n",
    "        bst = lgb.train(params, dtrain, 10000, valid_sets=(dtrain, dvalid), verbose_eval=500,\n",
    "                        early_stopping_rounds=100)\n",
    "        \n",
    "        \n",
    "        val_results.extend(bst.predict(X_val_fold.values))\n",
    "        val_y.extend(y_val_fold.values)\n",
    "        \n",
    "        \n",
    "        lr_y_val_pred = bst.predict(X_val_fold)\n",
    "        \n",
    "        pred_test_full += bst.predict(X_test.values)\n",
    "        \n",
    "        \n",
    "        \n",
    "        fold_score = roc_auc_score(y_val_fold, lr_y_val_pred)\n",
    "        print('\\n Fold %02d AUC: %.6f \\n' % ((i+1), fold_score))\n",
    "\n",
    "\n",
    "pred_test_full /= 5.        \n",
    "\n",
    "\n",
    "ax = lgb.plot_importance(bst, max_num_features=20)\n",
    "plt.show()\n",
    "\n"
   ]
  },
  {
   "cell_type": "code",
   "execution_count": null,
   "metadata": {},
   "outputs": [],
   "source": []
  },
  {
   "cell_type": "code",
   "execution_count": null,
   "metadata": {},
   "outputs": [],
   "source": []
  }
 ],
 "metadata": {
  "kernelspec": {
   "display_name": "Python 3",
   "language": "python",
   "name": "python3"
  },
  "language_info": {
   "codemirror_mode": {
    "name": "ipython",
    "version": 3
   },
   "file_extension": ".py",
   "mimetype": "text/x-python",
   "name": "python",
   "nbconvert_exporter": "python",
   "pygments_lexer": "ipython3",
   "version": "3.7.6"
  }
 },
 "nbformat": 4,
 "nbformat_minor": 4
}
