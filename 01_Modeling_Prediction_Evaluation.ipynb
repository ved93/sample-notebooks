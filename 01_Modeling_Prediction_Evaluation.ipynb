{
 "cells": [
  {
   "cell_type": "code",
   "execution_count": null,
   "metadata": {},
   "outputs": [],
   "source": [
    "#https://github.com/rhiever/Data-Analysis-and-Machine-Learning-Projects/blob/master/example-data-science-notebook/Example%20Machine%20Learning%20Notebook.ipynb\n",
    "\n"
   ]
  },
  {
   "cell_type": "code",
   "execution_count": null,
   "metadata": {},
   "outputs": [],
   "source": []
  },
  {
   "cell_type": "code",
   "execution_count": null,
   "metadata": {},
   "outputs": [],
   "source": []
  },
  {
   "cell_type": "code",
   "execution_count": null,
   "metadata": {},
   "outputs": [],
   "source": []
  },
  {
   "cell_type": "code",
   "execution_count": null,
   "metadata": {},
   "outputs": [],
   "source": [
    "df = pd.read_feather('dfv1')"
   ]
  },
  {
   "cell_type": "code",
   "execution_count": null,
   "metadata": {},
   "outputs": [],
   "source": []
  },
  {
   "cell_type": "code",
   "execution_count": null,
   "metadata": {},
   "outputs": [],
   "source": [
    "#process missing value, one hot cencode cat var\n",
    "# X, y, nas = feature_engineering.proc_df(train, 'ordered' )\n",
    "\n",
    "# Xtest, ytest, nas = feature_engineering.proc_df(test, 'ordered', na_dict=nas )"
   ]
  },
  {
   "cell_type": "code",
   "execution_count": null,
   "metadata": {},
   "outputs": [],
   "source": [
    "# #Scaling features\n",
    "# from sklearn.preprocessing import StandardScaler\n",
    "# scaler = StandardScaler()\n",
    "# scaler.fit(df)\n",
    "# df_norm = pd.DataFrame(scaler.transform(df), columns=df.columns)\n"
   ]
  },
  {
   "cell_type": "code",
   "execution_count": null,
   "metadata": {},
   "outputs": [],
   "source": [
    "#Define Validation method\n",
    "#Train and validation set split\n",
    "from sklearn.model_selection import train_test_split\n",
    "X = df.drop('target_var', axis=1)\n",
    "y = df['column to predict']\n",
    "X_train, X_val, y_train, y_val = train_test_split(X, y, test_size = 0.4, stratify = y.values, random_state = 101)\n",
    "#Cross validation\n",
    "from sklearn.model_selection import cross_val_score\n",
    "cross_val_score(model, X, y, cv=5)\n",
    "#StratifiedKFold\n",
    "from sklearn.model_selection import StratifiedKFold\n",
    "skf = StratifiedKFold(n_splits=5, random_state=101)\n",
    "for train_index, val_index in skf.split(X, y):\n",
    "    X_train, X_val = X[train_index], X[val_index]\n",
    "    y_train, y_val = y[train_index], y[val_index]"
   ]
  },
  {
   "cell_type": "code",
   "execution_count": null,
   "metadata": {},
   "outputs": [],
   "source": [
    "#Train many quick and dirty models from different categories(e.g., linear, naive Bayes, SVM, Random Forests, neural net, etc.) using standard parameters.\n",
    "#########\n",
    "# Linear Regression\n",
    "#########\n",
    "from sklearn.linear_model import LinearRegression\n",
    "lr = LinearRegression()\n",
    "lr.fit(X_train,y_train)\n",
    "\n",
    "#Linear model interpretation\n",
    "lr.intercept_\n",
    "lr.coef_\n",
    "\n",
    "#Use model to predict\n",
    "y_pred = lr.predict(X_val)\n",
    "\n",
    "#Evaluate accuracy of the model\n",
    "plt.scatter(y_val, y_pred) #should have the shape of a line for good predictions\n",
    "sns.distplot(y_val - y_pred) #should be a normal distribution centered at 0\n",
    "acc_lr = round(lr.score(X_val, y_val) * 100, 2)"
   ]
  },
  {
   "cell_type": "code",
   "execution_count": null,
   "metadata": {},
   "outputs": [],
   "source": []
  },
  {
   "cell_type": "code",
   "execution_count": null,
   "metadata": {},
   "outputs": [],
   "source": []
  },
  {
   "cell_type": "code",
   "execution_count": null,
   "metadata": {},
   "outputs": [],
   "source": []
  },
  {
   "cell_type": "code",
   "execution_count": null,
   "metadata": {},
   "outputs": [],
   "source": [
    "#stole from \n",
    "# https://github.com/albertsl/toolkit/blob/master/templates/Data%20Science%20Template.ipynb"
   ]
  },
  {
   "cell_type": "code",
   "execution_count": null,
   "metadata": {},
   "outputs": [],
   "source": [
    "#########\n",
    "# Logistic Regression\n",
    "#########\n",
    "from sklearn.linear_model import LogisticRegression\n",
    "logmodel = LogisticRegression()\n",
    "logmodel.fit(X_train,y_train)\n",
    "\n",
    "#Use model to predict\n",
    "y_pred = logmodel.predict(X_val)\n",
    "\n",
    "#Evaluate accuracy of the model\n",
    "acc_log = round(logmodel.score(X_val, y_val) * 100, 2)"
   ]
  },
  {
   "cell_type": "code",
   "execution_count": null,
   "metadata": {},
   "outputs": [],
   "source": [
    "#########\n",
    "# KNN\n",
    "#########\n",
    "from sklearn.neighbors import KNeighborsClassifier\n",
    "knn = KNeighborsClassifier(n_neighbors = 5)\n",
    "knn.fit(X_train, y_train)\n",
    "\n",
    "#Use model to predict\n",
    "y_pred = knn.predict(X_val)\n",
    "\n",
    "#Evaluate accuracy of the model\n",
    "acc_knn = round(knn.score(X_val, y_val) * 100, 2)\n",
    "\n",
    "  "
   ]
  },
  {
   "cell_type": "code",
   "execution_count": null,
   "metadata": {},
   "outputs": [],
   "source": [
    "  \n",
    "#########\n",
    "# Decision Tree\n",
    "#########\n",
    "from sklearn.tree import DecisionTreeClassifier\n",
    "dtree = DecisionTreeClassifier()\n",
    "dtree.fit(X_train, y_train)\n",
    "\n",
    "#Use model to predict\n",
    "y_pred = dtree.predict(X_val)\n",
    "\n",
    "#Evaluate accuracy of the model\n",
    "acc_dtree = round(dtree.score(X_val, y_val) * 100, 2)"
   ]
  },
  {
   "cell_type": "code",
   "execution_count": null,
   "metadata": {},
   "outputs": [],
   "source": [
    "#########\n",
    "# Random Forest\n",
    "#########\n",
    "from sklearn.ensemble import RandomForestClassifier\n",
    "rfc = RandomForestClassifier(n_estimators=200, random_state=101, n_jobs=-1, verbose=3)\n",
    "rfc.fit(X_train, y_train)\n",
    "\n",
    "from sklearn.ensemble import RandomForestRegressor\n",
    "rfr = RandomForestRegressor(n_estimators=200, random_state=101, n_jobs=-1, verbose=3)\n",
    "rfr.fit(X_train, y_train)\n",
    "\n",
    "#Use model to predict\n",
    "y_pred = rfr.predict(X_val)\n",
    "\n",
    "#Evaluate accuracy of the model\n",
    "acc_rf = round(rfr.score(X_val, y_val) * 100, 2)\n",
    "\n",
    "#Evaluate feature importance\n",
    "importances = rfr.feature_importances_\n",
    "std = np.std([importances for tree in rfr.estimators_], axis=0)\n",
    "indices = np.argsort(importances)[::-1]\n",
    "\n",
    "feature_importances = pd.DataFrame(rfr.feature_importances_, index = X_train.columns, columns=['importance']).sort_values('importance', ascending=False)\n",
    "feature_importances.sort_values('importance', ascending=False)\n",
    "\n",
    "plt.figure()\n",
    "plt.title(\"Feature importances\")\n",
    "plt.bar(range(X_train.shape[1]), importances[indices], yerr=std[indices], align=\"center\")\n",
    "plt.xticks(range(X_train.shape[1]), indices)\n",
    "plt.xlim([-1, X_train.shape[1]])\n",
    "plt.show()\n",
    " "
   ]
  },
  {
   "cell_type": "code",
   "execution_count": null,
   "metadata": {},
   "outputs": [],
   "source": [
    "#########\n",
    "# lightGBM (LGBM)\n",
    "#########\n",
    "import lightgbm as lgb\n",
    "#create dataset for lightgbm\n",
    "lgb_train = lgb.Dataset(X_train, y_train)\n",
    "lgb_eval = lgb.Dataset(X_val, y_val, reference=lgb_train)\n",
    "\n",
    "#specify your configurations as a dict\n",
    "params = {\n",
    "    'boosting_type': 'gbdt',\n",
    "    'objective': 'regression',\n",
    "    'metric': {'l2', 'l1'},\n",
    "    'num_leaves': 31,\n",
    "    'learning_rate': 0.05,\n",
    "    'feature_fraction': 0.9,\n",
    "    'bagging_fraction': 0.8,\n",
    "    'bagging_freq': 5,\n",
    "    'verbose': 0\n",
    "}\n",
    "\n",
    "#train\n",
    "gbm = lgb.train(params, lgb_train, num_boost_round=20, valid_sets=lgb_eval, early_stopping_rounds=5)\n",
    "\n",
    "#save model to file\n",
    "gbm.save_model('model.txt')\n",
    "\n",
    "#predict\n",
    "y_pred = gbm.predict(X_val, num_iteration=gbm.best_iteration)\n",
    " "
   ]
  },
  {
   "cell_type": "code",
   "execution_count": null,
   "metadata": {},
   "outputs": [],
   "source": [
    "#########\n",
    "# XGBoost\n",
    "#########\n",
    "import xgboost as xgb\n",
    "\n",
    "params = {'objective': 'multi:softmax',  #Specify multiclass classification\n",
    "        'num_class': 9,  #Number of possible output classes\n",
    "        'tree_method': 'hist',  #Use gpu_hist for GPU accelerated algorithm.\n",
    "        'eta': 0.1,\n",
    "        'max_depth': 6,\n",
    "        'silent': 1,\n",
    "        'gamma': 0,\n",
    "        'eval_metric': \"merror\",\n",
    "        'min_child_weight': 3,\n",
    "        'max_delta_step': 1,\n",
    "        'subsample': 0.9,\n",
    "        'colsample_bytree': 0.4,\n",
    "        'colsample_bylevel': 0.6,\n",
    "        'colsample_bynode': 0.5,\n",
    "        'lambda': 0,\n",
    "        'alpha': 0,\n",
    "        'seed': 0}\n",
    "\n",
    "xgtrain = xgb.DMatrix(X_train, label=y_train)\n",
    "xgval = xgb.DMatrix(X_val, label=y_val)\n",
    "xgtest = xgb.DMatrix(X_test)\n",
    "\n",
    "num_rounds = 500\n",
    "gpu_res = {}  #Store accuracy result\n",
    "#Train model\n",
    "xgbst = xgb.train(params, xgtrain, num_rounds, evals=[\n",
    "            (xgval, 'test')], evals_result=gpu_res)\n",
    "\n",
    "y_pred = xgbst.predict(xgtest)"
   ]
  },
  {
   "cell_type": "code",
   "execution_count": null,
   "metadata": {},
   "outputs": [],
   "source": [
    "#########\n",
    "# Support Vector Machine (SVM)\n",
    "#########\n",
    "from sklearn.svm import SVC\n",
    "model = SVC()\n",
    "model.fit(X_train, y_train)\n",
    "\n",
    "#Use model to predict\n",
    "y_pred = model.predict(X_val)\n",
    "\n",
    "#Evaluate accuracy of the model\n",
    "acc_svm = round(model.score(X_val, y_val) * 100, 2)"
   ]
  },
  {
   "cell_type": "code",
   "execution_count": null,
   "metadata": {},
   "outputs": [],
   "source": [
    "    \n",
    "#########\n",
    "# K-Means Clustering\n",
    "#########\n",
    "#Train model\n",
    "from sklearn.cluster import KMeans\n",
    "kmeans = KMeans(n_clusters=K) #Choose K\n",
    "kmeans.fit(df)\n",
    "#Evaluate the model\n",
    "kmeans.cluster_centers_\n",
    "kmeans.labels_"
   ]
  },
  {
   "cell_type": "code",
   "execution_count": null,
   "metadata": {},
   "outputs": [],
   "source": [
    "#Measure and compare their performance\n",
    "models = pd.DataFrame({\n",
    "'Model': ['Linear Regression', 'Support Vector Machine', 'KNN', 'Logistic Regression', \n",
    "            'Random Forest'],\n",
    "'Score': [acc_lr, acc_svm, acc_knn, acc_log, \n",
    "            acc_rf]})\n",
    "models.sort_values(by='Score', ascending=False)\n",
    "#Analyze the most significant variables for each algorithm.\n",
    "#Analyze the types of errors the models make.\n",
    "#What data would a human have used to avoid these errors?\n",
    "#Have a quick round of feature selection and engineering.\n",
    "#Have one or two more quick iterations of the five previous steps.\n",
    "#Short-list the top three to five most promising models, preferring models that make different types of errors.\n",
    "#Define Performance Metrics\n",
    "#ROC AUC for classification tasks\n",
    "from sklearn.metrics import roc_auc_score\n",
    "from sklearn.metrics import roc_curve\n",
    "roc_auc = roc_auc_score(y_val, model.predict(X_val))\n",
    "fpr, tpr, thresholds = roc_curve(y_val, model.predict_proba(X_val)[:,1])\n",
    "plt.figure()\n",
    "plt.plot(fpr, tpr, label='Model (area = %0.2f)' % roc_auc)\n",
    "plt.plot([0, 1], [0, 1],'r--')\n",
    "plt.xlim([0.0, 1.0])\n",
    "plt.ylim([0.0, 1.05])\n",
    "plt.xlabel('False Positive Rate')\n",
    "plt.ylabel('True Positive Rate')\n",
    "plt.title('Receiver operating characteristic')\n",
    "plt.legend(loc=\"lower right\")\n",
    "plt.show()\n",
    "#Confusion Matrix\n",
    "from sklearn.metrics import confusion_matrix\n",
    "confusion_matrix(y_val, y_pred)\n",
    "#MAE, MSE, RMSE\n",
    "from sklearn import metrics\n",
    "metrics.mean_absolute_error(y_val, y_pred)\n",
    "metrics.mean_squared_error(y_val, y_pred)\n",
    "np.sqrt(metrics.mean_squared_error(y_val, y_pred))\n",
    "#Classification report\n",
    "from sklearn.metrics import classification_report\n",
    "print(classification_report(y_val,y_pred))\n",
    "In [ ]:\n",
    "#Fine-tune the hyperparameters using cross-validation\n",
    "#Treat your data transformation choices as hyperparameters, especially when you are not sure about them (e.g., should I replace missing values with zero or with the median value? Or just drop the rows?)\n",
    "#Unless there are very few hyperparameter values to explore, prefer random search over grid search. If training is very long, you may prefer a Bayesian optimization approach\n",
    "from sklearn.model_selection import GridSearchCV\n",
    "param_grid = {'C':[0.1,1,10,100,1000], 'gamma':[1,0.1,0.01,0.001,0.0001]}\n",
    "grid = GridSearchCV(model, param_grid, verbose = 3)\n",
    "grid.fit(X_train, y_train)\n",
    "grid.best_params_\n",
    "grid.best_estimator_\n",
    " "
   ]
  },
  {
   "cell_type": "code",
   "execution_count": null,
   "metadata": {},
   "outputs": [],
   "source": [
    "#Try Ensemble methods. Combining your best models will often perform better than running them individually\n",
    " \n",
    "#Once you are confident about your final model, measure its performance on the test set to estimate the generalization error\n",
    " \n",
    "#Model interpretability\n",
    "#Feature importance\n",
    "import eli5\n",
    "from eli5.sklearn import PermutationImportance\n",
    "\n",
    "perm = PermutationImportance(model, random_state=101).fit(X_val, y_val)\n",
    "eli5.show_weights(perm, feature_names = X_val.columns.tolist())\n",
    " "
   ]
  },
  {
   "cell_type": "code",
   "execution_count": null,
   "metadata": {},
   "outputs": [],
   "source": [
    "#Partial dependence plot\n",
    "from pdpbox import pdp, get_dataset, info_plots\n",
    "\n",
    "#Create the data that we will plot\n",
    "pdp_goals = pdp.pdp_isolate(model=model, dataset=X_val, model_features=X_val.columns, feature='Goals Scored')\n",
    "\n",
    "#plot it\n",
    "pdp.pdp_plot(pdp_goals, 'Goals Scored')\n",
    "plt.show()\n",
    "\n",
    "#Similar to previous PDP plot except we use pdp_interact instead of pdp_isolate and pdp_interact_plot instead of pdp_isolate_plot\n",
    "features_to_plot = ['Goals Scored', 'Distance Covered (Kms)']\n",
    "inter1  =  pdp.pdp_interact(model=model, dataset=X_val, model_features=X_val.columns, features=features_to_plot)\n",
    "\n",
    "pdp.pdp_interact_plot(pdp_interact_out=inter1, feature_names=features_to_plot, plot_type='contour')\n",
    "plt.show()\n",
    " "
   ]
  },
  {
   "cell_type": "code",
   "execution_count": null,
   "metadata": {},
   "outputs": [],
   "source": [
    "#SHAP Values: Understand how each feature affects every individual prediciton\n",
    "import shap\n",
    "data_for_prediction = X_val.iloc[row_num]\n",
    "explainer = shap.TreeExplainer(model)  #Use DeepExplainer for Deep Learning models, KernelExplainer for all other models\n",
    "shap_vals = explainer.shap_values(data_for_prediction)\n",
    "shap.initjs()\n",
    "shap.force_plot(explainer.expected_value[1], shap_vals[1], data_for_prediction)\n",
    "\n",
    "#We can also do a SHAP plot of the whole dataset\n",
    "shap_vals = explainer.shap_values(X_val)\n",
    "shap.summary_plot(shap_vals[1], X_val)\n",
    "#SHAP Dependence plot\n",
    "shap.dependence_plot('feature_for_x', shap_vals[1], X_val, interaction_index=\"feature_for_color\")"
   ]
  },
  {
   "cell_type": "code",
   "execution_count": null,
   "metadata": {},
   "outputs": [],
   "source": []
  },
  {
   "cell_type": "code",
   "execution_count": null,
   "metadata": {},
   "outputs": [],
   "source": []
  }
 ],
 "metadata": {
  "kernelspec": {
   "display_name": "Python 3",
   "language": "python",
   "name": "python3"
  },
  "language_info": {
   "codemirror_mode": {
    "name": "ipython",
    "version": 3
   },
   "file_extension": ".py",
   "mimetype": "text/x-python",
   "name": "python",
   "nbconvert_exporter": "python",
   "pygments_lexer": "ipython3",
   "version": "3.7.6"
  }
 },
 "nbformat": 4,
 "nbformat_minor": 4
}
